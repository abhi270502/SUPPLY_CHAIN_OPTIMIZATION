{
 "cells": [
  {
   "cell_type": "code",
   "execution_count": 1,
   "id": "0c8f5c67",
   "metadata": {},
   "outputs": [],
   "source": [
    "import pandas as pd\n",
    "import numpy as np\n",
    "import statsmodels.api as sm"
   ]
  },
  {
   "cell_type": "code",
   "execution_count": 6,
   "id": "25dba30c",
   "metadata": {},
   "outputs": [
    {
     "name": "stderr",
     "output_type": "stream",
     "text": [
      "/Users/abhisheknarisepallivenkatasai/SUPPLY_CHAIN_OPTIMIZATION/.venv/lib/python3.12/site-packages/tqdm/auto.py:21: TqdmWarning: IProgress not found. Please update jupyter and ipywidgets. See https://ipywidgets.readthedocs.io/en/stable/user_install.html\n",
      "  from .autonotebook import tqdm as notebook_tqdm\n"
     ]
    }
   ],
   "source": [
    "from dotenv import load_dotenv\n",
    "import os\n",
    "from graphdatascience import GraphDataScience\n"
   ]
  },
  {
   "cell_type": "code",
   "execution_count": 7,
   "id": "0eaff7b5",
   "metadata": {},
   "outputs": [],
   "source": [
    "load_dotenv()\n",
    "uri = os.getenv(\"NEO4J_URI\")\n",
    "user = os.getenv(\"NEO4J_USER\")\n",
    "pwd = os.getenv(\"NEO4J_PASSWORD\")"
   ]
  },
  {
   "cell_type": "code",
   "execution_count": 8,
   "id": "be8df44f",
   "metadata": {},
   "outputs": [],
   "source": [
    "gds = GraphDataScience(uri, auth=(user, pwd))"
   ]
  },
  {
   "cell_type": "code",
   "execution_count": 9,
   "id": "db15aef4",
   "metadata": {},
   "outputs": [],
   "source": [
    "# Create the in-memory graph projection\n",
    "g, _ = gds.graph.project('proj', 'Airport', {'SENDS_TO':{'properties':['flightCount']}})"
   ]
  },
  {
   "cell_type": "code",
   "execution_count": 10,
   "id": "3283b3d5",
   "metadata": {},
   "outputs": [
    {
     "data": {
      "text/plain": [
       "graphName                                                             proj\n",
       "database                                                             neo4j\n",
       "databaseLocation                                                     local\n",
       "memoryUsage                                                               \n",
       "sizeInBytes                                                             -1\n",
       "nodeCount                                                              237\n",
       "relationshipCount                                                     1205\n",
       "configuration            {'relationshipProjection': {'SENDS_TO': {'aggr...\n",
       "density                                                           0.021544\n",
       "creationTime                           2025-10-27T19:06:25.469479000+05:30\n",
       "modificationTime                       2025-10-27T19:06:25.469479000+05:30\n",
       "schema                   {'graphProperties': {}, 'nodes': {'Airport': {...\n",
       "schemaWithOrientation    {'graphProperties': {}, 'nodes': {'Airport': {...\n",
       "Name: 0, dtype: object"
      ]
     },
     "execution_count": 10,
     "metadata": {},
     "output_type": "execute_result"
    }
   ],
   "source": [
    "# calculate and write out-degree centrality\n",
    "gds.degree.write(g,relationshipWeightProperty='flightCount', writeProperty='outDegreeCentrality')\n",
    "# calculate and write betweenness centrality\n",
    "gds.betweenness.write(g, writeProperty='betweennessCentrality')\n",
    "#calculate and write eigenvector centrality\n",
    "gds.eigenvector.write(g,relationshipWeightProperty='flightCount', writeProperty='eigenvectorCentrality')\n",
    "# drop the projected in-memory graph\n",
    "g.drop()"
   ]
  },
  {
   "cell_type": "code",
   "execution_count": 11,
   "id": "16e89fa8",
   "metadata": {},
   "outputs": [
    {
     "data": {
      "text/plain": [
       "graphName                                                             proj\n",
       "database                                                             neo4j\n",
       "databaseLocation                                                     local\n",
       "memoryUsage                                                               \n",
       "sizeInBytes                                                             -1\n",
       "nodeCount                                                              237\n",
       "relationshipCount                                                     1205\n",
       "configuration            {'relationshipProjection': {'SENDS_TO': {'aggr...\n",
       "density                                                           0.021544\n",
       "creationTime                           2025-10-27T19:07:19.793716000+05:30\n",
       "modificationTime                       2025-10-27T19:07:19.793716000+05:30\n",
       "schema                   {'graphProperties': {}, 'nodes': {'Airport': {...\n",
       "schemaWithOrientation    {'graphProperties': {}, 'nodes': {'Airport': {...\n",
       "Name: 0, dtype: object"
      ]
     },
     "execution_count": 11,
     "metadata": {},
     "output_type": "execute_result"
    }
   ],
   "source": [
    "g, _ = gds.graph.project('proj', 'Airport', {'SENDS_TO':{'orientation':'REVERSE', 'properties':['flightCount']}})\n",
    "gds.degree.write(g,relationshipWeightProperty='flightCount', writeProperty='inDegreeCentrality')\n",
    "g.drop()"
   ]
  },
  {
   "cell_type": "code",
   "execution_count": 12,
   "id": "cdbb6979",
   "metadata": {},
   "outputs": [
    {
     "name": "stdout",
     "output_type": "stream",
     "text": [
      "\n",
      "=======================================\n",
      "Top 5 Airports for betweennessCentrality\n",
      "   airportId         name  betweennessCentrality\n",
      "0        349  Richardberg           11579.601583\n",
      "1        128    Shanefort           10715.139355\n",
      "2        700    Davisfort            5178.707487\n",
      "3        815    Moodytown            4471.174851\n",
      "4        555  Masseyhaven            3722.941825\n",
      "\n",
      "=======================================\n",
      "Top 5 Airports for outDegreeCentrality\n",
      "   airportId         name  outDegreeCentrality\n",
      "0        815    Moodytown               2240.0\n",
      "1        128    Shanefort               2195.0\n",
      "2        700    Davisfort               2003.0\n",
      "3        349  Richardberg               1104.0\n",
      "4        485  Michaelstad                711.0\n",
      "\n",
      "=======================================\n",
      "Top 5 Airports for inDegreeCentrality\n",
      "   airportId         name  inDegreeCentrality\n",
      "0        700    Davisfort              2205.0\n",
      "1        128    Shanefort              1839.0\n",
      "2        349  Richardberg              1312.0\n",
      "3        815    Moodytown              1091.0\n",
      "4        485  Michaelstad               758.0\n",
      "\n",
      "=======================================\n",
      "Top 5 Airports for eigenvectorCentrality\n",
      "   airportId         name  eigenvectorCentrality\n",
      "0        700    Davisfort               0.643818\n",
      "1        349  Richardberg               0.455872\n",
      "2        128    Shanefort               0.439031\n",
      "3        815    Moodytown               0.255747\n",
      "4        671    Scotttown               0.132667\n"
     ]
    }
   ],
   "source": [
    "metrics = ['betweennessCentrality', 'outDegreeCentrality', 'inDegreeCentrality', 'eigenvectorCentrality']\n",
    "top_n = 5\n",
    "for metric in metrics:\n",
    "    print('\\n=======================================')\n",
    "    print(f'Top {top_n} Airports for {metric}')\n",
    "    print(gds.run_cypher(f'''\n",
    "        MATCH(a:Airport)\n",
    "        RETURN a.airportId AS airportId, a.name AS name, a.{metric} AS {metric}\n",
    "        ORDER BY {metric} DESC LIMIT {top_n}\n",
    "    '''))"
   ]
  },
  {
   "cell_type": "code",
   "execution_count": 30,
   "id": "e9fa9b43",
   "metadata": {},
   "outputs": [
    {
     "name": "stdout",
     "output_type": "stream",
     "text": [
      "\n",
      "=======================================\n",
      "Top 5 Airports by Total Degree Centrality (In + Out)\n",
      "   airportId         name  inDegree  outDegree  totalDegreeCentrality\n",
      "0        700    Davisfort    2205.0     2003.0                 4208.0\n",
      "1        128    Shanefort    1839.0     2195.0                 4034.0\n",
      "2        815    Moodytown    1091.0     2240.0                 3331.0\n",
      "3        349  Richardberg    1312.0     1104.0                 2416.0\n",
      "4        485  Michaelstad     758.0      711.0                 1469.0\n"
     ]
    }
   ],
   "source": [
    "print('\\n=======================================')\n",
    "print(f'Top {top_n} Airports by Total Degree Centrality (In + Out)')\n",
    "print(gds.run_cypher('''\n",
    "    MATCH(a:Airport)\n",
    "    RETURN a.airportId AS airportId, \n",
    "           a.name AS name, \n",
    "           a.inDegreeCentrality AS inDegree,\n",
    "           a.outDegreeCentrality AS outDegree,\n",
    "           (a.inDegreeCentrality + a.outDegreeCentrality) AS totalDegreeCentrality\n",
    "    ORDER BY totalDegreeCentrality DESC \n",
    "    LIMIT 5\n",
    "'''))\n"
   ]
  },
  {
   "cell_type": "code",
   "execution_count": 13,
   "id": "03e1e512",
   "metadata": {},
   "outputs": [
    {
     "data": {
      "text/html": [
       "<div>\n",
       "<style scoped>\n",
       "    .dataframe tbody tr th:only-of-type {\n",
       "        vertical-align: middle;\n",
       "    }\n",
       "\n",
       "    .dataframe tbody tr th {\n",
       "        vertical-align: top;\n",
       "    }\n",
       "\n",
       "    .dataframe thead th {\n",
       "        text-align: right;\n",
       "    }\n",
       "</style>\n",
       "<table border=\"1\" class=\"dataframe\">\n",
       "  <thead>\n",
       "    <tr style=\"text-align: right;\">\n",
       "      <th></th>\n",
       "      <th>airportId</th>\n",
       "      <th>name</th>\n",
       "      <th>betweennessCentrality</th>\n",
       "      <th>outDegreeCentrality</th>\n",
       "      <th>inDegreeCentrality</th>\n",
       "      <th>eigenvectorCentrality</th>\n",
       "    </tr>\n",
       "  </thead>\n",
       "  <tbody>\n",
       "    <tr>\n",
       "      <th>0</th>\n",
       "      <td>349</td>\n",
       "      <td>Richardberg</td>\n",
       "      <td>11579.601583</td>\n",
       "      <td>1104.0</td>\n",
       "      <td>1312.0</td>\n",
       "      <td>0.455872</td>\n",
       "    </tr>\n",
       "    <tr>\n",
       "      <th>1</th>\n",
       "      <td>128</td>\n",
       "      <td>Shanefort</td>\n",
       "      <td>10715.139355</td>\n",
       "      <td>2195.0</td>\n",
       "      <td>1839.0</td>\n",
       "      <td>0.439031</td>\n",
       "    </tr>\n",
       "    <tr>\n",
       "      <th>2</th>\n",
       "      <td>700</td>\n",
       "      <td>Davisfort</td>\n",
       "      <td>5178.707487</td>\n",
       "      <td>2003.0</td>\n",
       "      <td>2205.0</td>\n",
       "      <td>0.643818</td>\n",
       "    </tr>\n",
       "    <tr>\n",
       "      <th>3</th>\n",
       "      <td>815</td>\n",
       "      <td>Moodytown</td>\n",
       "      <td>4471.174851</td>\n",
       "      <td>2240.0</td>\n",
       "      <td>1091.0</td>\n",
       "      <td>0.255747</td>\n",
       "    </tr>\n",
       "    <tr>\n",
       "      <th>4</th>\n",
       "      <td>555</td>\n",
       "      <td>Masseyhaven</td>\n",
       "      <td>3722.941825</td>\n",
       "      <td>275.0</td>\n",
       "      <td>204.0</td>\n",
       "      <td>0.046118</td>\n",
       "    </tr>\n",
       "  </tbody>\n",
       "</table>\n",
       "</div>"
      ],
      "text/plain": [
       "   airportId         name  betweennessCentrality  outDegreeCentrality  \\\n",
       "0        349  Richardberg           11579.601583               1104.0   \n",
       "1        128    Shanefort           10715.139355               2195.0   \n",
       "2        700    Davisfort            5178.707487               2003.0   \n",
       "3        815    Moodytown            4471.174851               2240.0   \n",
       "4        555  Masseyhaven            3722.941825                275.0   \n",
       "\n",
       "   inDegreeCentrality  eigenvectorCentrality  \n",
       "0              1312.0               0.455872  \n",
       "1              1839.0               0.439031  \n",
       "2              2205.0               0.643818  \n",
       "3              1091.0               0.255747  \n",
       "4               204.0               0.046118  "
      ]
     },
     "execution_count": 13,
     "metadata": {},
     "output_type": "execute_result"
    }
   ],
   "source": [
    "#combined into a single table for top 5 betweenness centrality\n",
    "gds.run_cypher(f'''\n",
    "        MATCH(a:Airport)\n",
    "        RETURN a.airportId AS airportId, a.name AS name,\n",
    "            a.betweennessCentrality AS betweennessCentrality,\n",
    "            a.outDegreeCentrality AS outDegreeCentrality,\n",
    "            a.inDegreeCentrality AS inDegreeCentrality,\n",
    "            a.eigenvectorCentrality AS eigenvectorCentrality\n",
    "        ORDER BY betweennessCentrality DESC LIMIT {top_n}\n",
    "''')"
   ]
  },
  {
   "cell_type": "code",
   "execution_count": 14,
   "id": "576d460f",
   "metadata": {},
   "outputs": [
    {
     "data": {
      "text/plain": [
       "graphName                                                             proj\n",
       "database                                                             neo4j\n",
       "databaseLocation                                                     local\n",
       "memoryUsage                                                               \n",
       "sizeInBytes                                                             -1\n",
       "nodeCount                                                              237\n",
       "relationshipCount                                                     2410\n",
       "configuration            {'relationshipProjection': {'SENDS_TO': {'aggr...\n",
       "density                                                           0.043088\n",
       "creationTime                           2025-10-27T19:08:40.367064000+05:30\n",
       "modificationTime                       2025-10-27T19:08:40.367064000+05:30\n",
       "schema                   {'graphProperties': {}, 'nodes': {'Airport': {...\n",
       "schemaWithOrientation    {'graphProperties': {}, 'nodes': {'Airport': {...\n",
       "Name: 0, dtype: object"
      ]
     },
     "execution_count": 14,
     "metadata": {},
     "output_type": "execute_result"
    }
   ],
   "source": [
    "g, _ = gds.graph.project('proj', 'Airport', {'SENDS_TO':{'orientation':'UNDIRECTED', 'properties':['flightCount']}})\n",
    "gds.louvain.write(g, relationshipWeightProperty='flightCount', writeProperty='louvainId')\n",
    "g.drop()"
   ]
  },
  {
   "cell_type": "code",
   "execution_count": 15,
   "id": "fe79a8c9",
   "metadata": {},
   "outputs": [
    {
     "data": {
      "text/html": [
       "<div>\n",
       "<style scoped>\n",
       "    .dataframe tbody tr th:only-of-type {\n",
       "        vertical-align: middle;\n",
       "    }\n",
       "\n",
       "    .dataframe tbody tr th {\n",
       "        vertical-align: top;\n",
       "    }\n",
       "\n",
       "    .dataframe thead th {\n",
       "        text-align: right;\n",
       "    }\n",
       "</style>\n",
       "<table border=\"1\" class=\"dataframe\">\n",
       "  <thead>\n",
       "    <tr style=\"text-align: right;\">\n",
       "      <th></th>\n",
       "      <th>count(a)</th>\n",
       "    </tr>\n",
       "  </thead>\n",
       "  <tbody>\n",
       "    <tr>\n",
       "      <th>0</th>\n",
       "      <td>237</td>\n",
       "    </tr>\n",
       "  </tbody>\n",
       "</table>\n",
       "</div>"
      ],
      "text/plain": [
       "   count(a)\n",
       "0       237"
      ]
     },
     "execution_count": 15,
     "metadata": {},
     "output_type": "execute_result"
    }
   ],
   "source": [
    "# Relabel Louvain Communities (a.k.a. Regions) by the highest betweenness centrality airport name\n",
    "gds.run_cypher('''\n",
    "    MATCH (a:Airport)\n",
    "    WITH a.louvainId AS louvainId, max(a.betweennessCentrality) as maxBC\n",
    "    MATCH(a:Airport) WHERE a.betweennessCentrality = maxBC\n",
    "    WITH a.name as regionLabel, louvainId\n",
    "    MATCH(a:Airport) WHERE a.louvainId=louvainId\n",
    "    SET a.regionLabel = regionLabel\n",
    "    RETURN count(a)\n",
    "''')"
   ]
  },
  {
   "cell_type": "code",
   "execution_count": 16,
   "id": "4b33f019",
   "metadata": {},
   "outputs": [
    {
     "data": {
      "text/html": [
       "<div>\n",
       "<style scoped>\n",
       "    .dataframe tbody tr th:only-of-type {\n",
       "        vertical-align: middle;\n",
       "    }\n",
       "\n",
       "    .dataframe tbody tr th {\n",
       "        vertical-align: top;\n",
       "    }\n",
       "\n",
       "    .dataframe thead th {\n",
       "        text-align: right;\n",
       "    }\n",
       "</style>\n",
       "<table border=\"1\" class=\"dataframe\">\n",
       "  <thead>\n",
       "    <tr style=\"text-align: right;\">\n",
       "      <th></th>\n",
       "      <th>region</th>\n",
       "      <th>numberOfAirports</th>\n",
       "    </tr>\n",
       "  </thead>\n",
       "  <tbody>\n",
       "    <tr>\n",
       "      <th>0</th>\n",
       "      <td>Davisfort</td>\n",
       "      <td>32</td>\n",
       "    </tr>\n",
       "    <tr>\n",
       "      <th>1</th>\n",
       "      <td>Masseyhaven</td>\n",
       "      <td>50</td>\n",
       "    </tr>\n",
       "    <tr>\n",
       "      <th>2</th>\n",
       "      <td>Moodytown</td>\n",
       "      <td>51</td>\n",
       "    </tr>\n",
       "    <tr>\n",
       "      <th>3</th>\n",
       "      <td>Richardberg</td>\n",
       "      <td>48</td>\n",
       "    </tr>\n",
       "    <tr>\n",
       "      <th>4</th>\n",
       "      <td>Shanefort</td>\n",
       "      <td>56</td>\n",
       "    </tr>\n",
       "  </tbody>\n",
       "</table>\n",
       "</div>"
      ],
      "text/plain": [
       "        region  numberOfAirports\n",
       "0    Davisfort                32\n",
       "1  Masseyhaven                50\n",
       "2    Moodytown                51\n",
       "3  Richardberg                48\n",
       "4    Shanefort                56"
      ]
     },
     "execution_count": 16,
     "metadata": {},
     "output_type": "execute_result"
    }
   ],
   "source": [
    "# Count the number of airports in each region\n",
    "gds.run_cypher('''\n",
    "    MATCH (a:Airport)\n",
    "    RETURN a.regionLabel as region, count(a) AS numberOfAirports\n",
    "    ORDER BY region\n",
    "''')"
   ]
  },
  {
   "cell_type": "code",
   "execution_count": 17,
   "id": "32f05d28",
   "metadata": {},
   "outputs": [],
   "source": [
    "# get the data\n",
    "DELAY_CUTOFF = 30.0\n",
    "df_raw = gds.run_cypher('''\n",
    "    MATCH(a:Airport)<-[:LOCATED_AT]-()<-[r:TRANSPORT]-()-[:LOCATED_AT]->(b)\n",
    "    WITH a, toInteger((r.effectiveMinutes-r.plannedMinutes) > $delayCutoff) AS wasDelayed,\n",
    "        r.effectiveMinutes-r.plannedMinutes as delay,\n",
    "        toInteger(a.regionLabel <> b.regionLabel) AS interRegion,\n",
    "        b.outDegreeCentrality AS sourceOutDegree,\n",
    "        b.name AS sourceName,\n",
    "        b.airportId as sourceAirportId\n",
    "    RETURN a.airportId as airportId,\n",
    "        a.name AS name,\n",
    "        sourceAirportId,\n",
    "        sourceName,\n",
    "        wasDelayed,\n",
    "        delay,\n",
    "        interRegion,\n",
    "        sourceOutDegree,\n",
    "        a.inDegreeCentrality AS inDegreeCentrality,\n",
    "        a.outDegreeCentrality AS outDegreeCentrality,\n",
    "        a.betweennessCentrality AS betweennessCentrality,\n",
    "        a.eigenvectorCentrality AS eigenvectorCentrality,\n",
    "        a.regionLabel AS regionLabel\n",
    "''', params = {'delayCutoff': DELAY_CUTOFF})"
   ]
  },
  {
   "cell_type": "code",
   "execution_count": 18,
   "id": "3583c4c7",
   "metadata": {},
   "outputs": [
    {
     "data": {
      "text/plain": [
       "wasDelayed\n",
       "0    13984\n",
       "1     2183\n",
       "Name: count, dtype: int64"
      ]
     },
     "execution_count": 18,
     "metadata": {},
     "output_type": "execute_result"
    }
   ],
   "source": [
    "df_raw.wasDelayed.value_counts()"
   ]
  },
  {
   "cell_type": "code",
   "execution_count": 19,
   "id": "843f16a3",
   "metadata": {},
   "outputs": [],
   "source": [
    "# subsample to airports with 100 or more arrivals\n",
    "airports = df_raw.airportId.value_counts()\n",
    "df = df_raw[df_raw.airportId.isin(airports[airports >= 100].index.to_list())]"
   ]
  },
  {
   "cell_type": "code",
   "execution_count": 20,
   "id": "55c71845",
   "metadata": {},
   "outputs": [],
   "source": [
    "# create airport fixed effects and intercept\n",
    "df = pd.concat([df, pd.get_dummies(df.airportId, drop_first=True, prefix='airport')], axis=1)\n",
    "df['intercept'] = 1"
   ]
  },
  {
   "cell_type": "code",
   "execution_count": 22,
   "id": "a9fce17f",
   "metadata": {},
   "outputs": [],
   "source": [
    "#log centrality variables\n",
    "df['logBetweenness'] = np.log(df.betweennessCentrality + 1.0)\n",
    "df['logEigenvector'] = np.log(df.eigenvectorCentrality + 1.0)\n",
    "df['logInDegree'] = np.log(df.inDegreeCentrality + 1.0)\n",
    "df['logOutDegree'] = np.log(df.outDegreeCentrality + 1.0)\n",
    "df['logSourceOutDegree'] = np.log(df.sourceOutDegree + 1.0)"
   ]
  },
  {
   "cell_type": "code",
   "execution_count": 23,
   "id": "b692b745",
   "metadata": {},
   "outputs": [
    {
     "data": {
      "text/plain": [
       "wasDelayed\n",
       "0    11084\n",
       "1     1678\n",
       "Name: count, dtype: int64"
      ]
     },
     "execution_count": 23,
     "metadata": {},
     "output_type": "execute_result"
    }
   ],
   "source": [
    "# check final class balance\n",
    "df.wasDelayed.value_counts()"
   ]
  },
  {
   "cell_type": "markdown",
   "id": "1e8231a0",
   "metadata": {},
   "source": [
    "Fit a Logistic Regression model to predict delays based on centrality measures."
   ]
  },
  {
   "cell_type": "code",
   "execution_count": 24,
   "id": "0aff0d8c",
   "metadata": {},
   "outputs": [],
   "source": [
    "# Convert boolean airport columns to integers (0/1)\n",
    "airport_cols = [col for col in df.columns if col.startswith('airport_')]\n",
    "df[airport_cols] = df[airport_cols].astype(int)\n"
   ]
  },
  {
   "cell_type": "code",
   "execution_count": 25,
   "id": "bddf6803",
   "metadata": {},
   "outputs": [],
   "source": [
    "x_cols = ['logBetweenness',  'logInDegree', 'logOutDegree',\n",
    "          'logEigenvector', 'interRegion','logSourceOutDegree', 'intercept']\\\n",
    "         + airport_cols"
   ]
  },
  {
   "cell_type": "code",
   "execution_count": 26,
   "id": "bf63c9c8",
   "metadata": {},
   "outputs": [
    {
     "name": "stdout",
     "output_type": "stream",
     "text": [
      "Optimization terminated successfully.\n",
      "         Current function value: 0.339952\n",
      "         Iterations 1245\n",
      "                           Logit Regression Results                           \n",
      "==============================================================================\n",
      "Dep. Variable:             wasDelayed   No. Observations:                12762\n",
      "Model:                          Logit   Df Residuals:                    12723\n",
      "Method:                           MLE   Df Model:                           38\n",
      "Date:                Mon, 27 Oct 2025   Pseudo R-squ.:                  0.1265\n",
      "Time:                        19:26:06   Log-Likelihood:                -4338.5\n",
      "converged:                       True   LL-Null:                       -4966.9\n",
      "Covariance Type:              cluster   LLR p-value:                4.286e-239\n",
      "======================================================================================\n",
      "                         coef    std err          z      P>|z|      [0.025      0.975]\n",
      "--------------------------------------------------------------------------------------\n",
      "logBetweenness         0.1269      0.011     11.788      0.000       0.106       0.148\n",
      "logInDegree           -0.7116      0.003   -258.452      0.000      -0.717      -0.706\n",
      "logOutDegree           0.4304      0.007     65.821      0.000       0.418       0.443\n",
      "logEigenvector         0.1974      1.125      0.176      0.861      -2.007       2.402\n",
      "interRegion            0.2067      0.153      1.353      0.176      -0.093       0.506\n",
      "logSourceOutDegree    -0.1396      0.050     -2.791      0.005      -0.238      -0.042\n",
      "intercept             -0.7190      0.271     -2.651      0.008      -1.251      -0.187\n",
      "airport_128            1.0383      0.397      2.617      0.009       0.261       1.816\n",
      "airport_134            1.0763      0.069     15.636      0.000       0.941       1.211\n",
      "airport_144           -0.0207      0.097     -0.212      0.832      -0.212       0.170\n",
      "airport_149            1.1574      0.126      9.191      0.000       0.911       1.404\n",
      "airport_174           -1.1913      0.083    -14.326      0.000      -1.354      -1.028\n",
      "airport_187           -0.7007      0.044    -16.106      0.000      -0.786      -0.615\n",
      "airport_206           -0.0797      0.081     -0.985      0.325      -0.238       0.079\n",
      "airport_233            0.3523      0.142      2.490      0.013       0.075       0.630\n",
      "airport_256            0.2510      0.086      2.917      0.004       0.082       0.420\n",
      "airport_257            0.4147      0.045      9.289      0.000       0.327       0.502\n",
      "airport_281            0.8802      0.076     11.631      0.000       0.732       1.028\n",
      "airport_308           -0.9100      0.081    -11.254      0.000      -1.068      -0.751\n",
      "airport_349            1.2685      0.419      3.025      0.002       0.447       2.090\n",
      "airport_371           -1.4616      0.061    -24.054      0.000      -1.581      -1.343\n",
      "airport_403           -1.0209      0.108     -9.438      0.000      -1.233      -0.809\n",
      "airport_411           -0.0623      0.084     -0.740      0.460      -0.227       0.103\n",
      "airport_413           -1.4090      0.085    -16.652      0.000      -1.575      -1.243\n",
      "airport_431            0.2579      0.091      2.848      0.004       0.080       0.435\n",
      "airport_441           -1.3060      0.118    -11.109      0.000      -1.536      -1.076\n",
      "airport_468           -0.2519      0.119     -2.112      0.035      -0.486      -0.018\n",
      "airport_476           -1.8702      0.116    -16.130      0.000      -2.097      -1.643\n",
      "airport_485           -0.1418      0.065     -2.177      0.030      -0.270      -0.014\n",
      "airport_527           -0.0788      0.086     -0.916      0.360      -0.247       0.090\n",
      "airport_555           -0.5035      0.100     -5.047      0.000      -0.699      -0.308\n",
      "airport_597            0.8366      0.121      6.904      0.000       0.599       1.074\n",
      "airport_609            0.4087      0.087      4.714      0.000       0.239       0.579\n",
      "airport_610            1.5303      0.083     18.479      0.000       1.368       1.693\n",
      "airport_628            0.9789      0.069     14.183      0.000       0.844       1.114\n",
      "airport_671            0.4609      0.119      3.883      0.000       0.228       0.694\n",
      "airport_700           -1.2407      0.525     -2.363      0.018      -2.270      -0.212\n",
      "airport_742           -0.7267      0.076     -9.620      0.000      -0.875      -0.579\n",
      "airport_770            1.2860      0.106     12.147      0.000       1.079       1.494\n",
      "airport_809           -0.0203      0.081     -0.252      0.801      -0.178       0.138\n",
      "airport_815           -0.6904      0.254     -2.718      0.007      -1.188      -0.193\n",
      "======================================================================================\n"
     ]
    }
   ],
   "source": [
    "mod = sm.Logit(df.wasDelayed, df[x_cols])\n",
    "res = mod.fit(cov_type='cluster', maxiter=10000, cov_kwds={'groups': df.airportId})\n",
    "print(res.summary())"
   ]
  },
  {
   "cell_type": "code",
   "execution_count": 28,
   "id": "0b0930d4",
   "metadata": {},
   "outputs": [],
   "source": [
    "df.to_csv('ohe_df.csv')"
   ]
  },
  {
   "cell_type": "code",
   "execution_count": 41,
   "id": "09573b8a",
   "metadata": {},
   "outputs": [
    {
     "name": "stdout",
     "output_type": "stream",
     "text": [
      "Top 50 Airport Pairs with Most Shipments:\n",
      "       sourceName       destName  sourceId  destId  shipmentCount\n",
      "0       Moodytown    Michaelstad       815     485            511\n",
      "1     Michaelstad      Moodytown       485     815            511\n",
      "2       Davisfort      Scotttown       700     671            446\n",
      "3       Scotttown      Davisfort       671     700            446\n",
      "4       Shanefort      Davisfort       128     700            325\n",
      "5       Davisfort      Shanefort       700     128            325\n",
      "6       Davisfort    Michaelstad       700     485            322\n",
      "7     Michaelstad      Davisfort       485     700            322\n",
      "8     Richardberg      Scotttown       349     671            257\n",
      "9       Scotttown    Richardberg       671     349            257\n",
      "10      Shanefort    Stephenside       128     411            224\n",
      "11    Stephenside      Shanefort       411     128            224\n",
      "12      Moodytown      Davisfort       815     700            220\n",
      "13      Davisfort      Moodytown       700     815            220\n",
      "14      Moodytown    Paulchester       815     609            203\n",
      "15    Paulchester      Moodytown       609     815            203\n",
      "16      Davisfort    Staceyshire       700     113            197\n",
      "17    Staceyshire      Davisfort       113     700            197\n",
      "18      Shanefort   Bradleymouth       128     456            157\n",
      "19   Bradleymouth      Shanefort       456     128            157\n",
      "20      Davisfort   Bradleymouth       700     456            155\n",
      "21   Bradleymouth      Davisfort       456     700            155\n",
      "22      Simonfurt      Moodytown       476     815            152\n",
      "23      Moodytown      Simonfurt       815     476            152\n",
      "24   Wandaborough      Davisfort       281     700            146\n",
      "25      Davisfort   Wandaborough       700     281            146\n",
      "26      Moodytown      Shanefort       815     128            144\n",
      "27      Shanefort      Moodytown       128     815            144\n",
      "28      Shanefort      Grayshire       128     610            142\n",
      "29      Sonyafort      Davisfort       431     700            142\n",
      "30      Grayshire      Shanefort       610     128            142\n",
      "31      Davisfort      Sonyafort       700     431            142\n",
      "32      Shanefort     Alvarezton       128     413            141\n",
      "33     Alvarezton      Shanefort       413     128            141\n",
      "34      Shanefort  Justinchester       128     809            140\n",
      "35  Justinchester      Shanefort       809     128            140\n",
      "36    Michaelstad      Shanefort       485     128            139\n",
      "37      Shanefort    Michaelstad       128     485            139\n",
      "38      Moodytown       Erictown       815     597            138\n",
      "39       Erictown      Moodytown       597     815            138\n",
      "40  Jordanchester      Shanefort       166     128            136\n",
      "41      Shanefort  Jordanchester       128     166            136\n",
      "42    Richardberg      Davisfort       349     700            131\n",
      "43      Davisfort    Richardberg       700     349            131\n",
      "44      Moodytown      Scotttown       815     671            131\n",
      "45      Scotttown      Moodytown       671     815            131\n",
      "46  Hernandezberg      Shanefort       727     128            130\n",
      "47      Shanefort  Hernandezberg       128     727            130\n",
      "48     Alvarezton      Davisfort       413     700            122\n",
      "49      Davisfort     Alvarezton       700     413            122\n"
     ]
    }
   ],
   "source": [
    "# Get all unique source-destination pairs from your transport data\n",
    "transport_pairs = gds.run_cypher('''\n",
    "    MATCH (source:Airport)<-[:LOCATED_AT]-()-[:TRANSPORT]-()-[:LOCATED_AT]->(dest:Airport)\n",
    "    WHERE source <> dest\n",
    "    RETURN DISTINCT source.name as sourceName, \n",
    "           dest.name as destName,\n",
    "           source.airportId as sourceId,\n",
    "           dest.airportId as destId,\n",
    "           count(*) as shipmentCount\n",
    "    ORDER BY shipmentCount DESC\n",
    "    LIMIT 50\n",
    "''')\n",
    "print(\"Top 50 Airport Pairs with Most Shipments:\")\n",
    "print(transport_pairs)\n"
   ]
  },
  {
   "cell_type": "code",
   "execution_count": 42,
   "id": "91696431",
   "metadata": {},
   "outputs": [
    {
     "data": {
      "text/html": [
       "<div>\n",
       "<style scoped>\n",
       "    .dataframe tbody tr th:only-of-type {\n",
       "        vertical-align: middle;\n",
       "    }\n",
       "\n",
       "    .dataframe tbody tr th {\n",
       "        vertical-align: top;\n",
       "    }\n",
       "\n",
       "    .dataframe thead th {\n",
       "        text-align: right;\n",
       "    }\n",
       "</style>\n",
       "<table border=\"1\" class=\"dataframe\">\n",
       "  <thead>\n",
       "    <tr style=\"text-align: right;\">\n",
       "      <th></th>\n",
       "      <th>name</th>\n",
       "      <th>prob</th>\n",
       "    </tr>\n",
       "  </thead>\n",
       "  <tbody>\n",
       "    <tr>\n",
       "      <th>2291</th>\n",
       "      <td>Shanefort</td>\n",
       "      <td>0.217390</td>\n",
       "    </tr>\n",
       "    <tr>\n",
       "      <th>5948</th>\n",
       "      <td>Davisfort</td>\n",
       "      <td>0.026918</td>\n",
       "    </tr>\n",
       "  </tbody>\n",
       "</table>\n",
       "</div>"
      ],
      "text/plain": [
       "           name      prob\n",
       "2291  Shanefort  0.217390\n",
       "5948  Davisfort  0.026918"
      ]
     },
     "execution_count": 42,
     "metadata": {},
     "output_type": "execute_result"
    }
   ],
   "source": [
    "df['prob'] = res.predict(df[x_cols])\n",
    "df.loc[df.name.isin([\"Davisfort\", \"Shanefort\"]) & (df.sourceName == \"Bradleymouth\"),[\"name\", \"prob\"]].drop_duplicates()"
   ]
  },
  {
   "cell_type": "code",
   "execution_count": 34,
   "id": "10b62036",
   "metadata": {},
   "outputs": [
    {
     "name": "stdout",
     "output_type": "stream",
     "text": [
      "\n",
      "Correlation between Centrality Measures and Delay Probability:\n",
      "betweennessCentrality    0.443648\n",
      "eigenvectorCentrality    0.208540\n",
      "inDegreeCentrality       0.203752\n",
      "outDegreeCentrality      0.175285\n",
      "dtype: float64\n"
     ]
    }
   ],
   "source": [
    "# Calculate correlations between centrality measures and delay probability\n",
    "centrality_cols = ['betweennessCentrality', 'inDegreeCentrality', \n",
    "                   'outDegreeCentrality', 'eigenvectorCentrality']\n",
    "\n",
    "airport_summary = df.groupby('name').agg({\n",
    "    'prob': 'mean',\n",
    "    **{col: 'first' for col in centrality_cols}\n",
    "})\n",
    "\n",
    "print(\"\\nCorrelation between Centrality Measures and Delay Probability:\")\n",
    "correlations = airport_summary[centrality_cols].corrwith(airport_summary['prob'])\n",
    "print(correlations.sort_values(ascending=False))\n"
   ]
  },
  {
   "cell_type": "code",
   "execution_count": 39,
   "id": "9e6be8c4",
   "metadata": {},
   "outputs": [
    {
     "name": "stdout",
     "output_type": "stream",
     "text": [
      "\n",
      "Top 10 Airports by Betweenness Centrality with Delay Probabilities:\n",
      "   airportId         name   betweenness  inDegree  outDegree  totalDegree  \\\n",
      "0        349  Richardberg  11579.601583    1312.0     1104.0       2416.0   \n",
      "1        128    Shanefort  10715.139355    1839.0     2195.0       4034.0   \n",
      "2        700    Davisfort   5178.707487    2205.0     2003.0       4208.0   \n",
      "3        815    Moodytown   4471.174851    1091.0     2240.0       3331.0   \n",
      "4        555  Masseyhaven   3722.941825     204.0      275.0        479.0   \n",
      "5        256     Lambfort   3114.902985     185.0      199.0        384.0   \n",
      "6        308   Fieldsbury   1901.202501     196.0      274.0        470.0   \n",
      "7        149    Brownberg   1781.531349     380.0      270.0        650.0   \n",
      "8        485  Michaelstad   1775.701532     758.0      711.0       1469.0   \n",
      "9        431    Sonyafort   1271.209918     210.0      244.0        454.0   \n",
      "\n",
      "   eigenvector       region      prob  \n",
      "0     0.455872  Richardberg  0.300305  \n",
      "1     0.439031    Shanefort  0.252855  \n",
      "2     0.643818    Davisfort  0.024943  \n",
      "3     0.255747    Moodytown  0.070577  \n",
      "4     0.046118  Masseyhaven  0.112745  \n",
      "5     0.046391  Masseyhaven  0.178378  \n",
      "6     0.043331  Masseyhaven  0.066327  \n",
      "7     0.126781    Moodytown  0.255263  \n",
      "8     0.132132    Moodytown  0.064644  \n",
      "9     0.051292  Masseyhaven  0.147619  \n"
     ]
    }
   ],
   "source": [
    "# Query Neo4j for airports with centrality metrics\n",
    "high_risk_neo4j = gds.run_cypher('''\n",
    "    MATCH (a:Airport)\n",
    "    WHERE a.betweennessCentrality IS NOT NULL\n",
    "    RETURN a.airportId as airportId,\n",
    "           a.name as name,\n",
    "           a.betweennessCentrality as betweenness,\n",
    "           a.inDegreeCentrality as inDegree, \n",
    "           a.outDegreeCentrality as outDegree,\n",
    "           (a.inDegreeCentrality + a.outDegreeCentrality) as totalDegree,\n",
    "           a.eigenvectorCentrality as eigenvector,\n",
    "           a.regionLabel as region\n",
    "    ORDER BY betweenness DESC\n",
    "    LIMIT 10\n",
    "''')\n",
    "\n",
    "# Merge with delay predictions\n",
    "airport_risk_analysis = high_risk_neo4j.merge(\n",
    "    df.groupby('airportId')['prob'].mean().reset_index(), \n",
    "    on='airportId', \n",
    "    how='left'\n",
    ")\n",
    "\n",
    "print(\"\\nTop 10 Airports by Betweenness Centrality with Delay Probabilities:\")\n",
    "print(airport_risk_analysis.sort_values('betweenness', ascending=False))\n"
   ]
  },
  {
   "cell_type": "code",
   "execution_count": 40,
   "id": "e6029d47",
   "metadata": {},
   "outputs": [
    {
     "data": {
      "image/png": "[encoded data removed]",
      "text/plain": [
       "<Figure size 1200x1000 with 4 Axes>"
      ]
     },
     "metadata": {},
     "output_type": "display_data"
    }
   ],
   "source": [
    "import matplotlib.pyplot as plt\n",
    "\n",
    "# Scatter plot of centrality vs delay probability\n",
    "fig, axes = plt.subplots(2, 2, figsize=(12, 10))\n",
    "\n",
    "centrality_measures = ['betweennessCentrality', 'inDegreeCentrality', \n",
    "                      'outDegreeCentrality', 'eigenvectorCentrality']\n",
    "\n",
    "for i, measure in enumerate(centrality_measures):\n",
    "    ax = axes[i//2, i%2]\n",
    "    airport_summary.plot.scatter(x=measure, y='prob', ax=ax, alpha=0.6)\n",
    "    ax.set_title(f'Delay Probability vs {measure}')\n",
    "    ax.set_xlabel(measure)\n",
    "    ax.set_ylabel('Delay Probability')\n",
    "\n",
    "plt.tight_layout()\n",
    "plt.show()\n"
   ]
  },
  {
   "cell_type": "code",
   "execution_count": null,
   "id": "34da1669",
   "metadata": {},
   "outputs": [],
   "source": []
  }
 ],
 "metadata": {
  "kernelspec": {
   "display_name": ".venv",
   "language": "python",
   "name": "python3"
  },
  "language_info": {
   "codemirror_mode": {
    "name": "ipython",
    "version": 3
   },
   "file_extension": ".py",
   "mimetype": "text/x-python",
   "name": "python",
   "nbconvert_exporter": "python",
   "pygments_lexer": "ipython3",
   "version": "3.12.0"
  }
 },
 "nbformat": 4,
 "nbformat_minor": 5
}
